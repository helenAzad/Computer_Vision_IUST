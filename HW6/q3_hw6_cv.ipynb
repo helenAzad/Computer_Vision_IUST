{
  "nbformat": 4,
  "nbformat_minor": 0,
  "metadata": {
    "colab": {
      "provenance": []
    },
    "kernelspec": {
      "name": "python3",
      "display_name": "Python 3"
    },
    "language_info": {
      "name": "python"
    }
  },
  "cells": [
    {
      "cell_type": "code",
      "source": [
        "import tensorflow as tf\n",
        "from tensorflow.keras.models import Model, Sequential\n",
        "from tensorflow.keras.layers import Input, Conv2D, MaxPooling2D, GlobalAveragePooling2D, Dense, Concatenate, Flatten\n"
      ],
      "metadata": {
        "id": "kPAY5wm--JgB"
      },
      "execution_count": 8,
      "outputs": []
    },
    {
      "cell_type": "code",
      "execution_count": 9,
      "metadata": {
        "colab": {
          "base_uri": "https://localhost:8080/",
          "height": 373
        },
        "id": "NX2WS8Xx965L",
        "outputId": "35155521-c008-4087-f12d-a4ac18b2bf7a"
      },
      "outputs": [
        {
          "output_type": "error",
          "ename": "ValueError",
          "evalue": "A `Concatenate` layer requires inputs with matching shapes except for the concatenation axis. Received: input_shape=[(None, 4, 4, 64), (None, 8, 8, 128), (None, 10, 10, 32), (None, 12, 12, 64)]",
          "traceback": [
            "\u001b[0;31m---------------------------------------------------------------------------\u001b[0m",
            "\u001b[0;31mValueError\u001b[0m                                Traceback (most recent call last)",
            "\u001b[0;32m<ipython-input-9-996d309b9c65>\u001b[0m in \u001b[0;36m<cell line: 23>\u001b[0;34m()\u001b[0m\n\u001b[1;32m     21\u001b[0m \u001b[0mconv4\u001b[0m \u001b[0;34m=\u001b[0m \u001b[0mConv2D\u001b[0m\u001b[0;34m(\u001b[0m\u001b[0mfilters\u001b[0m\u001b[0;34m=\u001b[0m\u001b[0;36m64\u001b[0m\u001b[0;34m,\u001b[0m \u001b[0mkernel_size\u001b[0m\u001b[0;34m=\u001b[0m\u001b[0;34m(\u001b[0m\u001b[0;36m1\u001b[0m\u001b[0;34m,\u001b[0m \u001b[0;36m1\u001b[0m\u001b[0;34m)\u001b[0m\u001b[0;34m,\u001b[0m \u001b[0mactivation\u001b[0m\u001b[0;34m=\u001b[0m\u001b[0;34m'relu'\u001b[0m\u001b[0;34m)\u001b[0m\u001b[0;34m(\u001b[0m\u001b[0minput_layer\u001b[0m\u001b[0;34m)\u001b[0m\u001b[0;34m\u001b[0m\u001b[0;34m\u001b[0m\u001b[0m\n\u001b[1;32m     22\u001b[0m \u001b[0;34m\u001b[0m\u001b[0m\n\u001b[0;32m---> 23\u001b[0;31m \u001b[0mconcatenated\u001b[0m \u001b[0;34m=\u001b[0m \u001b[0mConcatenate\u001b[0m\u001b[0;34m(\u001b[0m\u001b[0;34m)\u001b[0m\u001b[0;34m(\u001b[0m\u001b[0;34m[\u001b[0m\u001b[0mseq1\u001b[0m\u001b[0;34m,\u001b[0m \u001b[0mseq2\u001b[0m\u001b[0;34m,\u001b[0m \u001b[0mseq3\u001b[0m\u001b[0;34m,\u001b[0m \u001b[0mconv4\u001b[0m\u001b[0;34m]\u001b[0m\u001b[0;34m)\u001b[0m\u001b[0;34m\u001b[0m\u001b[0;34m\u001b[0m\u001b[0m\n\u001b[0m\u001b[1;32m     24\u001b[0m \u001b[0;34m\u001b[0m\u001b[0m\n\u001b[1;32m     25\u001b[0m \u001b[0mmodel\u001b[0m \u001b[0;34m=\u001b[0m \u001b[0mModel\u001b[0m\u001b[0;34m(\u001b[0m\u001b[0minputs\u001b[0m\u001b[0;34m=\u001b[0m\u001b[0minput_layer\u001b[0m\u001b[0;34m,\u001b[0m \u001b[0moutputs\u001b[0m\u001b[0;34m=\u001b[0m\u001b[0mconcatenated\u001b[0m\u001b[0;34m)\u001b[0m\u001b[0;34m\u001b[0m\u001b[0;34m\u001b[0m\u001b[0m\n",
            "\u001b[0;32m/usr/local/lib/python3.10/dist-packages/keras/src/utils/traceback_utils.py\u001b[0m in \u001b[0;36merror_handler\u001b[0;34m(*args, **kwargs)\u001b[0m\n\u001b[1;32m     68\u001b[0m             \u001b[0;31m# To get the full stack trace, call:\u001b[0m\u001b[0;34m\u001b[0m\u001b[0;34m\u001b[0m\u001b[0m\n\u001b[1;32m     69\u001b[0m             \u001b[0;31m# `tf.debugging.disable_traceback_filtering()`\u001b[0m\u001b[0;34m\u001b[0m\u001b[0;34m\u001b[0m\u001b[0m\n\u001b[0;32m---> 70\u001b[0;31m             \u001b[0;32mraise\u001b[0m \u001b[0me\u001b[0m\u001b[0;34m.\u001b[0m\u001b[0mwith_traceback\u001b[0m\u001b[0;34m(\u001b[0m\u001b[0mfiltered_tb\u001b[0m\u001b[0;34m)\u001b[0m \u001b[0;32mfrom\u001b[0m \u001b[0;32mNone\u001b[0m\u001b[0;34m\u001b[0m\u001b[0;34m\u001b[0m\u001b[0m\n\u001b[0m\u001b[1;32m     71\u001b[0m         \u001b[0;32mfinally\u001b[0m\u001b[0;34m:\u001b[0m\u001b[0;34m\u001b[0m\u001b[0;34m\u001b[0m\u001b[0m\n\u001b[1;32m     72\u001b[0m             \u001b[0;32mdel\u001b[0m \u001b[0mfiltered_tb\u001b[0m\u001b[0;34m\u001b[0m\u001b[0;34m\u001b[0m\u001b[0m\n",
            "\u001b[0;32m/usr/local/lib/python3.10/dist-packages/keras/src/layers/merging/concatenate.py\u001b[0m in \u001b[0;36mbuild\u001b[0;34m(self, input_shape)\u001b[0m\n\u001b[1;32m    129\u001b[0m                 )\n\u001b[1;32m    130\u001b[0m                 \u001b[0;32mif\u001b[0m \u001b[0mlen\u001b[0m\u001b[0;34m(\u001b[0m\u001b[0munique_dims\u001b[0m\u001b[0;34m)\u001b[0m \u001b[0;34m>\u001b[0m \u001b[0;36m1\u001b[0m\u001b[0;34m:\u001b[0m\u001b[0;34m\u001b[0m\u001b[0;34m\u001b[0m\u001b[0m\n\u001b[0;32m--> 131\u001b[0;31m                     \u001b[0;32mraise\u001b[0m \u001b[0mValueError\u001b[0m\u001b[0;34m(\u001b[0m\u001b[0merr_msg\u001b[0m\u001b[0;34m)\u001b[0m\u001b[0;34m\u001b[0m\u001b[0;34m\u001b[0m\u001b[0m\n\u001b[0m\u001b[1;32m    132\u001b[0m \u001b[0;34m\u001b[0m\u001b[0m\n\u001b[1;32m    133\u001b[0m     \u001b[0;32mdef\u001b[0m \u001b[0m_merge_function\u001b[0m\u001b[0;34m(\u001b[0m\u001b[0mself\u001b[0m\u001b[0;34m,\u001b[0m \u001b[0minputs\u001b[0m\u001b[0;34m)\u001b[0m\u001b[0;34m:\u001b[0m\u001b[0;34m\u001b[0m\u001b[0;34m\u001b[0m\u001b[0m\n",
            "\u001b[0;31mValueError\u001b[0m: A `Concatenate` layer requires inputs with matching shapes except for the concatenation axis. Received: input_shape=[(None, 4, 4, 64), (None, 8, 8, 128), (None, 10, 10, 32), (None, 12, 12, 64)]"
          ]
        }
      ],
      "source": [
        "input_layer = Input(shape=(12, 12, 32))\n",
        "\n",
        "# لایه‌های ترتیبی 1\n",
        "seq1 = Sequential([\n",
        "    MaxPooling2D(pool_size=(3, 3), input_shape=(12, 12, 32)),\n",
        "    Conv2D(filters=64, kernel_size=(1, 1), activation='relu')\n",
        "])(input_layer)\n",
        "\n",
        "# لایه‌های ترتیبی 2\n",
        "seq2 = Sequential([\n",
        "    Conv2D(filters=64, kernel_size=(1, 1), activation='relu', input_shape=(12, 12, 32)),\n",
        "    Conv2D(filters=128, kernel_size=(5, 5), activation='relu')\n",
        "])(input_layer)\n",
        "\n",
        "# لایه‌های ترتیبی 3\n",
        "seq3 = Sequential([\n",
        "    Conv2D(filters=64, kernel_size=(1, 1), activation='relu', input_shape=(12, 12, 32)),\n",
        "    Conv2D(filters=32, kernel_size=(3, 3), activation='relu')\n",
        "])(input_layer)\n",
        "\n",
        "conv4 = Conv2D(filters=64, kernel_size=(1, 1), activation='relu')(input_layer)\n",
        "\n",
        "concatenated = Concatenate()([seq1, seq2, seq3, conv4])\n",
        "\n",
        "model = Model(inputs=input_layer, outputs=concatenated)\n",
        "\n",
        "model.compile(optimizer='adam', loss='sparse_categorical_crossentropy', metrics=['accuracy'])\n",
        "\n",
        "model.summary()\n"
      ]
    },
    {
      "cell_type": "code",
      "source": [
        "# ورودی مدل\n",
        "input_layer = Input(shape=(12, 12, 32))\n",
        "\n",
        "# لایه‌های ترتیبی 1\n",
        "seq1 = Sequential([\n",
        "    MaxPooling2D(pool_size=(3, 3), input_shape=(12, 12, 32)),\n",
        "    Conv2D(filters=64, kernel_size=(1, 1), activation='relu'),\n",
        "    GlobalAveragePooling2D()\n",
        "])(input_layer)\n",
        "\n",
        "# لایه‌های ترتیبی 2\n",
        "seq2 = Sequential([\n",
        "    Conv2D(filters=64, kernel_size=(1, 1), activation='relu', input_shape=(12, 12, 32)),\n",
        "    Conv2D(filters=128, kernel_size=(5, 5), activation='relu'),\n",
        "    GlobalAveragePooling2D()\n",
        "])(input_layer)\n",
        "\n",
        "# لایه‌های ترتیبی 3\n",
        "seq3 = Sequential([\n",
        "    Conv2D(filters=64, kernel_size=(1, 1), activation='relu', input_shape=(12, 12, 32)),\n",
        "    Conv2D(filters=32, kernel_size=(3, 3), activation='relu'),\n",
        "    GlobalAveragePooling2D()\n",
        "])(input_layer)\n",
        "\n",
        "# یک لایه موازی دیگر (بدون ترتیبی)\n",
        "conv4 = Conv2D(filters=64, kernel_size=(1, 1), activation='relu')(input_layer)\n",
        "global_avg_pool4 = GlobalAveragePooling2D()(conv4)\n",
        "\n",
        "# الحاق خروجی‌های لایه‌ها\n",
        "concatenated = Concatenate()([seq1, seq2, seq3, global_avg_pool4])\n",
        "print(\"concatenated.shape :\" , concatenated.shape)\n",
        "# اضافه کردن لایه‌های بیشتر به مدل\n",
        "dense = Dense(units=128, activation='relu')(concatenated)\n",
        "output_layer = Dense(units=10, activation='softmax')(dense)\n",
        "\n",
        "model = Model(inputs=input_layer, outputs=output_layer)\n",
        "\n",
        "model.compile(optimizer='adam', loss='sparse_categorical_crossentropy', metrics=['accuracy'])\n",
        "\n",
        "model.summary()\n"
      ],
      "metadata": {
        "colab": {
          "base_uri": "https://localhost:8080/"
        },
        "id": "D9MuZKS8Atyv",
        "outputId": "c0691d1c-9dc9-4287-da46-3f190443795f"
      },
      "execution_count": 10,
      "outputs": [
        {
          "output_type": "stream",
          "name": "stdout",
          "text": [
            "concatenated.shape : (None, 288)\n",
            "Model: \"model_2\"\n",
            "__________________________________________________________________________________________________\n",
            " Layer (type)                Output Shape                 Param #   Connected to                  \n",
            "==================================================================================================\n",
            " input_6 (InputLayer)        [(None, 12, 12, 32)]         0         []                            \n",
            "                                                                                                  \n",
            " conv2d_30 (Conv2D)          (None, 12, 12, 64)           2112      ['input_6[0][0]']             \n",
            "                                                                                                  \n",
            " sequential_13 (Sequential)  (None, 64)                   2112      ['input_6[0][0]']             \n",
            "                                                                                                  \n",
            " sequential_14 (Sequential)  (None, 128)                  207040    ['input_6[0][0]']             \n",
            "                                                                                                  \n",
            " sequential_15 (Sequential)  (None, 32)                   20576     ['input_6[0][0]']             \n",
            "                                                                                                  \n",
            " global_average_pooling2d_1  (None, 64)                   0         ['conv2d_30[0][0]']           \n",
            " 2 (GlobalAveragePooling2D)                                                                       \n",
            "                                                                                                  \n",
            " concatenate_4 (Concatenate  (None, 288)                  0         ['sequential_13[0][0]',       \n",
            " )                                                                   'sequential_14[0][0]',       \n",
            "                                                                     'sequential_15[0][0]',       \n",
            "                                                                     'global_average_pooling2d_12[\n",
            "                                                                    0][0]']                       \n",
            "                                                                                                  \n",
            " dense_4 (Dense)             (None, 128)                  36992     ['concatenate_4[0][0]']       \n",
            "                                                                                                  \n",
            " dense_5 (Dense)             (None, 10)                   1290      ['dense_4[0][0]']             \n",
            "                                                                                                  \n",
            "==================================================================================================\n",
            "Total params: 270122 (1.03 MB)\n",
            "Trainable params: 270122 (1.03 MB)\n",
            "Non-trainable params: 0 (0.00 Byte)\n",
            "__________________________________________________________________________________________________\n"
          ]
        }
      ]
    },
    {
      "cell_type": "code",
      "source": [
        "import tensorflow as tf\n",
        "from tensorflow.keras.models import Model, Sequential\n",
        "from tensorflow.keras.layers import Input, Conv2D, MaxPooling2D, GlobalAveragePooling2D, Dense, Concatenate\n",
        "# ورودی مدل\n",
        "input_layer = Input(shape=(12, 12, 32))\n",
        "# لایه‌های ترتیبی 1\n",
        "seq1 = Sequential([\n",
        "    MaxPooling2D(pool_size=(3, 3), input_shape=(12, 12, 32)),\n",
        "    Conv2D(filters=64, kernel_size=(1, 1), activation='relu'),\n",
        "    GlobalAveragePooling2D()\n",
        "])(input_layer)\n",
        "# لایه‌های ترتیبی 2\n",
        "seq2 = Sequential([\n",
        "    Conv2D(filters=256, kernel_size=(1, 1), activation='relu', input_shape=(12, 12, 32)),\n",
        "    Conv2D(filters=128, kernel_size=(5, 5), activation='relu'),\n",
        "    GlobalAveragePooling2D()\n",
        "])(input_layer)\n",
        "# لایه‌های ترتیبی 3\n",
        "seq3 = Sequential([\n",
        "    Conv2D(filters=64, kernel_size=(1, 1), activation='relu', input_shape=(12, 12, 32)),\n",
        "    Conv2D(filters=32, kernel_size=(3, 3), activation='relu'),\n",
        "    GlobalAveragePooling2D()\n",
        "])(input_layer)\n",
        "# یک لایه موازی دیگر (بدون ترتیبی)\n",
        "conv4 = Conv2D(filters=64, kernel_size=(1, 1), activation='relu')(input_layer)\n",
        "global_avg_pool4 = GlobalAveragePooling2D()(conv4)\n",
        "# الحاق خروجی‌های لایه‌ها\n",
        "concatenated = Concatenate()([seq1, seq2, seq3, global_avg_pool4])\n",
        "print(\"concatenated.shape :\" , concatenated.shape)\n",
        "# اضافه کردن لایه‌های بیشتر به مدل\n",
        "dense = Dense(units=128, activation='relu')(concatenated)\n",
        "output_layer = Dense(units=10, activation='softmax')(dense)\n",
        "model = Model(inputs=input_layer, outputs=output_layer)\n",
        "model.compile(optimizer='adam', loss='sparse_categorical_crossentropy', metrics=['accuracy'])\n",
        "model.summary()\n"
      ],
      "metadata": {
        "colab": {
          "base_uri": "https://localhost:8080/"
        },
        "id": "0ZguAwF-Isjn",
        "outputId": "38477bc9-2427-461e-a5ac-b2c5963f6bba"
      },
      "execution_count": 11,
      "outputs": [
        {
          "output_type": "stream",
          "name": "stdout",
          "text": [
            "concatenated.shape : (None, 288)\n",
            "Model: \"model_3\"\n",
            "__________________________________________________________________________________________________\n",
            " Layer (type)                Output Shape                 Param #   Connected to                  \n",
            "==================================================================================================\n",
            " input_7 (InputLayer)        [(None, 12, 12, 32)]         0         []                            \n",
            "                                                                                                  \n",
            " conv2d_36 (Conv2D)          (None, 12, 12, 64)           2112      ['input_7[0][0]']             \n",
            "                                                                                                  \n",
            " sequential_16 (Sequential)  (None, 64)                   2112      ['input_7[0][0]']             \n",
            "                                                                                                  \n",
            " sequential_17 (Sequential)  (None, 128)                  827776    ['input_7[0][0]']             \n",
            "                                                                                                  \n",
            " sequential_18 (Sequential)  (None, 32)                   20576     ['input_7[0][0]']             \n",
            "                                                                                                  \n",
            " global_average_pooling2d_1  (None, 64)                   0         ['conv2d_36[0][0]']           \n",
            " 6 (GlobalAveragePooling2D)                                                                       \n",
            "                                                                                                  \n",
            " concatenate_5 (Concatenate  (None, 288)                  0         ['sequential_16[0][0]',       \n",
            " )                                                                   'sequential_17[0][0]',       \n",
            "                                                                     'sequential_18[0][0]',       \n",
            "                                                                     'global_average_pooling2d_16[\n",
            "                                                                    0][0]']                       \n",
            "                                                                                                  \n",
            " dense_6 (Dense)             (None, 128)                  36992     ['concatenate_5[0][0]']       \n",
            "                                                                                                  \n",
            " dense_7 (Dense)             (None, 10)                   1290      ['dense_6[0][0]']             \n",
            "                                                                                                  \n",
            "==================================================================================================\n",
            "Total params: 890858 (3.40 MB)\n",
            "Trainable params: 890858 (3.40 MB)\n",
            "Non-trainable params: 0 (0.00 Byte)\n",
            "__________________________________________________________________________________________________\n"
          ]
        }
      ]
    }
  ]
}